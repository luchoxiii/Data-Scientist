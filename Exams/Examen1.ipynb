{
 "cells": [
  {
   "cell_type": "markdown",
   "id": "d9d0e66f",
   "metadata": {},
   "source": [
    "# Contexto"
   ]
  },
  {
   "cell_type": "markdown",
   "id": "febfc38b",
   "metadata": {},
   "source": [
    "Lucho"
   ]
  },
  {
   "cell_type": "markdown",
   "id": "8d77fd80",
   "metadata": {},
   "source": [
    "Una entidad bancaria acaba de realizar una campaña de marketing, cuyo objetivo buscaba lograr que los clientes contactados depositaran sus ahorros a plazo fijo. Los resultados fueron peor de lo esperado.\n",
    "Esta campaña se enfocó en un 10% de la cartera total de clientes del banco.\n",
    "\n",
    "El banco contrata nuestros servicios como científic@ de datos y nos comunica los siguintes objetivos:\n",
    "\n",
    "* Repetir una o más campañas en el transcurso de los siguientes 18 meses. \n",
    "* Maximizar la tasa de conversión de las mismas y entender los factores que influyen en esta tasa.\n",
    "\n",
    "El banco nos provee la lista de los ~4.5K clientes (\"clientes.csv\") que fueron contactados durante esta última campaña y nos informa que por el momento NO nos proveerá de mas datos que estos.\n",
    "\n",
    "Nuestra tarea consiste en ayudar al banco a cumplir sus objetivos."
   ]
  },
  {
   "cell_type": "markdown",
   "id": "d425366d",
   "metadata": {},
   "source": [
    "### Metadata\n",
    "\n",
    "#### Datos clientes\n",
    "1. age: edad del cliente\n",
    "2. job: tipo de trabajo\n",
    "3. marital: estado civil\n",
    "4. education: nivel de educación\n",
    "5. default: indica si el cliente registra algún default crediticio\n",
    "5. balance: saldo en dólares de la caja de ahorro del cliente\n",
    "6. housing: indica si el cliente posee un préstamo hipotecario\n",
    "7. loan: indica si el cliente posee algún préstamo personal\n",
    "\n",
    "#### Datos del último contacto de la campaña actual\n",
    "9. contact: canal de contacto\n",
    "10. day: día de último contacto\n",
    "11. month: mes de último contacto\n",
    "12. duration: duracion del último contacto\n",
    "13. campaign: cantidad de contactos hechos durante la campañ para el cliente especificado\n",
    "\n",
    "#### Otros datos\n",
    "14. pdays: días transcurridos desde el último contacto por una campaña previa\n",
    "15. previous: cantidad de contactos previo a esta campaña\n",
    "16. poutcome: resultado de la campaña previa\n",
    "\n",
    "#### Resultado campaña actual\n",
    "17. y - Indica si el cliente realizó depósito a plazo fijo(binaria: 'yes','no')"
   ]
  }
 ],
 "metadata": {
  "kernelspec": {
   "display_name": "Python 3 (ipykernel)",
   "language": "python",
   "name": "python3"
  },
  "language_info": {
   "codemirror_mode": {
    "name": "ipython",
    "version": 3
   },
   "file_extension": ".py",
   "mimetype": "text/x-python",
   "name": "python",
   "nbconvert_exporter": "python",
   "pygments_lexer": "ipython3",
   "version": "3.10.9"
  }
 },
 "nbformat": 4,
 "nbformat_minor": 5
}
