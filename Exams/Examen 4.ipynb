{
 "cells": [
  {
   "cell_type": "markdown",
   "id": "38d0bded-95d1-4dc1-bb8f-693f1a7aa371",
   "metadata": {},
   "source": [
    "# Examen 4"
   ]
  },
  {
   "cell_type": "markdown",
   "id": "948740d2-433f-4aec-9cf3-5209fb39396a",
   "metadata": {},
   "source": [
    "Lucho May| 2025\n",
    "<br>\n",
    "Les Champs-Elysees by Joe Dassin\n",
    "<br>\n",
    "I used to Rule the word by When It's the End\n"
   ]
  },
  {
   "cell_type": "markdown",
   "id": "710f0f94-7377-4066-9cb1-d90aeb0baaa3",
   "metadata": {},
   "source": [
    "## Consigna"
   ]
  },
  {
   "cell_type": "markdown",
   "id": "b4fb7317-c4d1-48bc-9153-cd031230f48a",
   "metadata": {},
   "source": [
    "**Objetivo:**  \n",
    "Evaluar los datos realizando un análisis descriptivo y evaluar una serie de modelos de clasificación. El objetivo final es elegir el modelo que mejor resultados obtiene prediciendo la **columna 21**, que representa si el cliente se suscribe al servicio correspondiente.\n",
    "El objetivo de clasificación binaria es predecir si el cliente suscribirá un depósito a plazo (variable y)\n",
    "\n",
    "---\n",
    "\n",
    "## Variables\n",
    "\n",
    "### Datos de clientes:\n",
    "\n",
    "1. **age**: Edad (numérica)  \n",
    "2. **job**: Tipo de trabajo (categórica):  \n",
    "   `'admin.','blue-collar','entrepreneur','housemaid','management','retired','self-employed','services','student','technician','unemployed','unknown'`  \n",
    "3. **marital**: Estado civil (categórica):  \n",
    "   `'divorced','married','single','unknown'` *(Nota: 'divorced' incluye divorciado o viudo)*  \n",
    "4. **education**: Nivel educativo (categórica):  \n",
    "   `'basic.4y','basic.6y','basic.9y','high.school','illiterate','professional.course','university.degree','unknown'`  \n",
    "5. **default**: ¿Tiene crédito en mora? (categórica): `'no','yes','unknown'`  \n",
    "6. **housing**: ¿Tiene préstamo hipotecario? (categórica): `'no','yes','unknown'`  \n",
    "7. **loan**: ¿Tiene préstamo personal? (categórica): `'no','yes','unknown'`  \n",
    "\n",
    "---\n",
    "\n",
    "### Relacionadas con el último contacto de la campaña actual:\n",
    "\n",
    "8. **contact**: Tipo de comunicación del contacto (categórica): `'cellular','telephone'`  \n",
    "9. **month**: Último mes de contacto en el año (categórica): `'jan', 'feb', 'mar', ..., 'nov', 'dec'`  \n",
    "10. **day_of_week**: Último día de contacto de la semana (categórica): `'mon','tue','wed','thu','fri'`  \n",
    "11. **duration**: Duración del último contacto en segundos (numérica)  \n",
    "   > **Nota importante:** Esta variable afecta fuertemente la variable objetivo. Si `duration=0` entonces `y='no'`.  \n",
    "   > Sin embargo, **no debe usarse** en modelos predictivos realistas porque su valor se conoce solo después del contacto. Puede usarse solo como referencia en benchmarks.\n",
    "\n",
    "---\n",
    "\n",
    "### Otros atributos:\n",
    "\n",
    "12. **campaign**: Número de contactos realizados durante esta campaña (numérica, incluye el último contacto)  \n",
    "13. **pdays**: Días desde el último contacto previo (numérica; `999` significa que no fue contactado previamente)  \n",
    "14. **previous**: Número de contactos realizados antes de esta campaña (numérica)  \n",
    "15. **poutcome**: Resultado de la campaña de marketing anterior (categórica): `'failure','nonexistent','success'`\n",
    "\n",
    "---\n",
    "\n",
    "### Atributos del contexto social y económico:\n",
    "\n",
    "16. **emp.var.rate**: Tasa de variación del empleo - indicador trimestral (numérica)  \n",
    "17. **cons.price.idx**: Índice de precios al consumidor - indicador mensual (numérica)  \n",
    "18. **cons.conf.idx**: Índice de confianza del consumidor - indicador mensual (numérica)  \n",
    "19. **euribor3m**: Tasa Euribor a 3 meses - indicador diario (numérica)  \n",
    "20. **nr.employed**: Número de empleados - indicador trimestral (numérica)  \n",
    "\n",
    "---\n",
    "\n",
    "## Variable de salida (target deseado):\n",
    "\n",
    "21. **y**: ¿El cliente ha suscrito un depósito a plazo? (binaria): `'yes','no'`\n"
   ]
  }
 ],
 "metadata": {
  "kernelspec": {
   "display_name": "Python 3 (ipykernel)",
   "language": "python",
   "name": "python3"
  },
  "language_info": {
   "codemirror_mode": {
    "name": "ipython",
    "version": 3
   },
   "file_extension": ".py",
   "mimetype": "text/x-python",
   "name": "python",
   "nbconvert_exporter": "python",
   "pygments_lexer": "ipython3",
   "version": "3.12.7"
  }
 },
 "nbformat": 4,
 "nbformat_minor": 5
}
