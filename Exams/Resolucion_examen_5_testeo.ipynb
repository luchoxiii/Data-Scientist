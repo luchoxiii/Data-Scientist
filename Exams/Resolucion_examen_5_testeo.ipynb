{
 "cells": [
  {
   "cell_type": "markdown",
   "id": "60fd612c",
   "metadata": {},
   "source": [
    "# Informe & Conclusion del Modelo "
   ]
  },
  {
   "cell_type": "markdown",
   "id": "01f24c89",
   "metadata": {},
   "source": [
    "Lucho Jun|2025"
   ]
  },
  {
   "cell_type": "markdown",
   "id": "31891c38",
   "metadata": {},
   "source": [
    "<b>Consideracion:</b><br>\n",
    "Antes de elaborar el informe, se detectaron dos cuestiones importantes relacionadas con la limpieza de datos. En primer lugar, se observó que algunos clientes realizaron múltiples consultas, con probabilidades de churn tanto positivas como negativas, lo que genera cierta ambigüedad en su clasificación. Este grupo representa entre el 5% y 10% del total. El número máximo de consultas registradas por un cliente es 16, aunque la mayoría de los casos se concentra en clientes con una sola consulta. Luego, se identifican algunos con dos motivos, llegando a un máximo de nueve, y a partir de ahí la frecuencia disminuye hasta estabilizarse en un solo motivo, que es el valor promedio y el más representativo.\n",
    "\n",
    "En segundo lugar, se detectó una inconsistencia en las fechas: la fecha de finalización figura como fecha de inicio, y viceversa. Esto refleja un claro problema de calidad de datos.\n",
    "\n",
    "Para abordar el problema de la recurrencia de los clientes, se propone utilizar tanto la variable temporal como el tipo de motivo de la consulta. Además, es importante considerar el contenido de las quejas, ya que al ser analizadas vectorialmente, estas aportan peso significativo dentro del algoritmo de predicción."
   ]
  },
  {
   "cell_type": "markdown",
   "id": "27b2eff6",
   "metadata": {},
   "source": [
    "## Conclusion"
   ]
  },
  {
   "cell_type": "markdown",
   "id": "b5e2ba1f",
   "metadata": {},
   "source": [
    "Si bien el dataset presenta algunos problemas de calidad, estos fueron tenidos en cuenta durante el análisis. A medida que se avanzaba con el análisis exploratorio de datos (EDA), se identificaron nuevos inconvenientes, en su mayoría casos aislados. Por ejemplo, se observó que algunos clientes que presentaron reclamos pertenecían a zonas distintas, lo cual fue verificado durante el proceso.\n",
    "\n",
    "Posteriormente, se aplicaron cuatro algoritmos distintos para el modelado. Se seleccionó aquel que mostró el mejor desempeño, evaluado principalmente a través del F1-score, dado que es la métrica más relevante en problemas de churn.\n",
    "\n",
    "En cuanto al tema del desbalance poblacional, no se detecta un desbalance significativo en los datos, ya que la distribución de la variable objetivo no indica una relación desproporcionada entre clases."
   ]
  },
  {
   "cell_type": "markdown",
   "id": "8acbaa04",
   "metadata": {},
   "source": [
    "### 1 Explicacion de implementacion y cuando se usa.\n",
    "El modelo se implementaría en un entorno de producción para realizar predicciones en tiempo real o por lotes, dependiendo del caso de uso. Se usaría para clasificar eventos o casos en dos clases (por ejemplo, \"True\" o \"False\"), con el objetivo de maximizar el beneficio esperado según un umbral óptimo de decisión (0.35). Esto puede ser aplicado en escenarios como detección de fraude, segmentación de clientes o alertas tempranas.\n",
    "\n",
    "El proceso típico sería:\n",
    "\n",
    "- Preparar los datos en la entrada según las variables requeridas.  \n",
    "- Ejecutar la predicción del modelo para cada registro.  \n",
    "- Tomar decisiones basadas en la predicción y el umbral definido.  \n",
    "- Monitorear el rendimiento del modelo y actualizarlo periódicamente con nuevos datos."
   ]
  },
  {
   "cell_type": "markdown",
   "id": "3559b620",
   "metadata": {},
   "source": [
    "### 2 Explicacion del porque del algortimo\n",
    "\n",
    "Se eligió Random Forest como algoritmo principal para predecir el churn en el banco PY debido a su capacidad para manejar datos complejos, con variables tanto numéricas como categóricas, y relaciones no lineales. A diferencia de otros modelos, no requiere una normalización estricta y puede captar interacciones complejas entre variables sin necesidad de un extenso trabajo de ingeniería de features. Esto lo hace especialmente adecuado para datos bancarios con estructuras mixtas. A pesar de que el dataset cuenta con más de 765.000 registros y presenta cierta asimetría en la clase objetivo, Random Forest mitiga el riesgo de sobreajuste"
   ]
  },
  {
   "cell_type": "markdown",
   "id": "60d3b210",
   "metadata": {},
   "source": [
    "### 3 Explicar los resultados obtenidos (Métricas) y si tiene el rendimiento necesario para salir a producción.\n",
    " Umbral Óptimo y Beneficio\n",
    "\n",
    "- **Umbral óptimo**: `0.38`  \n",
    "- **Beneficio esperado**: `$309.936`\n",
    "\n",
    " Este umbral maximiza el beneficio esperado al combinar las predicciones con la estrategia de retención del banco.\n",
    "\n",
    " Métricas con Umbral Óptimo\n",
    "\n",
    "| Clase      | Precision | Recall | F1-Score | Soporte  |\n",
    "|------------|-----------|--------|----------|----------|\n",
    "| No churn   | 0.83      | 0.69   | 0.75     | 160.523  |\n",
    "| Churn      | 0.47      | 0.66   | 0.55     | 68.080   |\n",
    "| **Accuracy** |         |        | 0.68     | 228.603  |\n",
    "\n",
    "Interpretación:\n",
    "- **Recall churn (0.66)**: El modelo detecta correctamente al 66% de los clientes que efectivamente se dieron de baja.  \n",
    "- **Precision churn (0.47)**: De cada 100 clientes que el modelo predice que se darán de baja, 47 realmente lo hacen.  \n",
    "- **F1-score churn (0.55)**: Equilibrio entre precisión y recall.  \n",
    "- **Accuracy general (0.68)**: Correcta en el 68% de los casos totales.\n",
    "\n",
    "\n",
    "El modelo tiene potencial de **uso productivo asistido**.\n",
    "- Es **sensible (recall alto)**, lo que es útil en contextos donde **no detectar un churn es muy costoso**.\n",
    "- Sin embargo, presenta **overfitting severo** y debe ser **mejorado antes de automatizar decisiones**.\n",
    "\n",
    "\n",
    "- ¿Está Listo para Producción?\n",
    "\n",
    "- Se usa como **alerta temprana** con validación humana posterior.\n",
    "- Se aplica la estrategia de retención solo a casos evaluados por ejecutivos.\n",
    "- El **beneficio supera el costo de intervenir falsos positivos**\n",
    "\n",
    "\n",
    "\n",
    "\n",
    "\n"
   ]
  },
  {
   "cell_type": "markdown",
   "id": "0bdb3a60",
   "metadata": {},
   "source": [
    "### 4 Explicar cuales son las variables que más afectan a la predicción\n",
    "\n",
    "El modelo identifica las siguientes 10 variables como las más influyentes para predecir si un cliente se dará de baja del banco:\n",
    "\n",
    "| Ranking | Variable                      | Importancia | Desvío Estándar | Descripción |\n",
    "|---------|-------------------------------|-------------|------------------|-------------|\n",
    "| 1       | `puntos_de_loyalty`           | 0.291       | 0.0044           | Cantidad de puntos de fidelidad acumulados por el cliente. |\n",
    "| 2       | `tiempo_atencion`             | 0.236       | 0.0051           | Tiempo que duró la atención en sucursal (en minutos). |\n",
    "| 3       | `edad`                        | 0.138       | 0.0096           | Edad del cliente. |\n",
    "| 4       | `longitud_descripcion`        | 0.137       | 0.0082           | Largo (en caracteres) de la descripción textual de la atención. |\n",
    "| 5       | `segmento_cliente_B`          | 0.130       | 0.0573           | Si el cliente pertenece al segmento B. |\n",
    "| 6       | `segmento_cliente_A`          | 0.022       | 0.0263           | Si el cliente pertenece al segmento A. |\n",
    "| 7       | `segmento_cliente_C`          | 0.020       | 0.0248           | Si el cliente pertenece al segmento C. |\n",
    "| 8       | `segmento_cliente_D`          | 0.020       | 0.0223           | Si el cliente pertenece al segmento D. |\n",
    "| 9       | `prob_churn`                  | 0.002       | 0.0007           | Probabilidad estimada por el modelo anterior. |\n",
    "| 10      | `tipo_asistencia_reclamo`     | 0.001       | 0.0005           | Si el motivo declarado fue un reclamo. |\n",
    "\n",
    "Interpretación clave:\n",
    "\n",
    "- **Loyalty** y **tiempo de atención** son las variables más fuertes: el modelo aprende que los clientes con menos puntos o con atenciones más largas tienen más probabilidad de churn.\n",
    "- **Edad** y **contenido de la descripción** también aportan información relevante, posiblemente relacionada con el tipo de problemas expresados o la complejidad de la situación.\n",
    "- Los **segmentos de clientes**, en especial el B, tienen peso importante: puede reflejar perfiles más sensibles al churn.\n",
    "- Variables como el tipo de asistencia tienen muy poco impacto individual, aunque podrían ganar peso combinadas con otras.\n",
    "\n",
    "> Esto sugiere que las variables **operativas y de comportamiento** (más que las categóricas o de motivo) son las más predictivas del churn."
   ]
  },
  {
   "cell_type": "markdown",
   "id": "33ef5f6d",
   "metadata": {},
   "source": [
    "\n",
    "### 5 A ¿El modelo final elegido es bueno?\n",
    "\n",
    "**Sí, pero con matices.**  \n",
    "El modelo cumple con los objetivos principales del negocio:\n",
    "\n",
    "- **Detecta clientes con alta probabilidad de churn** con un *recall* del 66% en la clase positiva (clientes que efectivamente se dieron de baja), lo cual es clave para la estrategia de retención anticipada.\n",
    "- Genera un **beneficio esperado de 309.936**, optimizando la relación entre costo de intervención y ganancia esperada.\n",
    "- El **umbral fue ajustado** (a 0.38) para priorizar el beneficio y no simplemente la precisión clásica del modelo.\n",
    "- El F1-score para churn es **0.55**, aceptable en un problema con clase desbalanceada y foco económico.\n",
    "\n",
    "> Aunque las métricas clásicas no son perfectas, el modelo **logra un rendimiento económico claro y medible**, lo cual justifica su uso en producción bajo supervisión.\n",
    "\n",
    "---\n",
    "\n",
    "### 5 B ¿Existe overfitting o underfitting?\n",
    "\n",
    "**Sí, hay indicios claros de *overfitting*.**\n",
    "\n",
    "- Las métricas en **entrenamiento** son casi perfectas (Accuracy 99.95%, F1 0.9991, ROC AUC 1.00), lo cual es poco realista.\n",
    "- En **test**, la performance cae notablemente (F1-score 0.4333, ROC AUC 0.76).\n",
    "- Hay **diferencias marcadas** entre train y test:\n",
    "  - F1-score: -0.5658\n",
    "  - ROC AUC: -0.2385\n",
    "- Sin embargo, la **validación cruzada** es estable y muy similar al test final (F1 ≈ 0.431), lo que sugiere que el *overfitting* no es catastrófico y se logró mitigar en parte con regularización o técnicas como early stopping.\n",
    "\n",
    "> El modelo **tiene overfitting**, pero su impacto se ve compensado por un umbral ajustado y una métrica de negocio positiva, por lo que se puede considerar **viable en producción** si se monitorea y se entrena regularmente con nuevos datos."
   ]
  },
  {
   "cell_type": "markdown",
   "id": "08b85e5b",
   "metadata": {},
   "source": [
    "<b>Notas</b><br>\n",
    "Ahora se hace el testeo del modelo "
   ]
  },
  {
   "cell_type": "markdown",
   "id": "804ea4c6",
   "metadata": {},
   "source": [
    "## Testeo Modelo"
   ]
  },
  {
   "cell_type": "markdown",
   "id": "227e0765",
   "metadata": {},
   "source": [
    "### Import Packages"
   ]
  },
  {
   "cell_type": "code",
   "execution_count": 1,
   "id": "5094372d",
   "metadata": {},
   "outputs": [],
   "source": [
    "import pandas as pd\n",
    "import numpy as np\n",
    "import joblib\n",
    "import random\n",
    "from datetime import datetime, timedelta"
   ]
  },
  {
   "cell_type": "markdown",
   "id": "31cb7717",
   "metadata": {},
   "source": [
    "### Prueba de produccion"
   ]
  },
  {
   "cell_type": "code",
   "execution_count": 2,
   "id": "54ef1985",
   "metadata": {},
   "outputs": [],
   "source": [
    "class ChurnPredictor:\n",
    "    def __init__(self, model_path):\n",
    "        try:\n",
    "            # Cargar el modelo entrenado\n",
    "            self.model = joblib.load(model_path)\n",
    "            print(\"✅ Modelo cargado correctamente.\")\n",
    "        except Exception as e:\n",
    "            print(f\"❌ Error al cargar el modelo: {e}\")\n",
    "            self.model = None\n",
    "\n",
    "    def predecir_churn(self, tipo_asistencia):\n",
    "        \"\"\"Función auxiliar para predecir probabilidad base de churn\"\"\"\n",
    "        tipo_asistencia = str(tipo_asistencia)\n",
    "        if tipo_asistencia.lower() == 'problema':\n",
    "            return 1.0\n",
    "        elif tipo_asistencia.lower() == 'reclamo':\n",
    "            return 0.8 if random.random() < 0.5 else 0\n",
    "        else:\n",
    "            return 0\n",
    "\n",
    "    def preparar_datos(self, datos_cliente):\n",
    "        \"\"\"\n",
    "        Prepara los datos del cliente para la predicción.\n",
    "        datos_cliente: Diccionario con los datos del cliente\n",
    "        \"\"\"\n",
    "        cliente_df = pd.DataFrame([datos_cliente])\n",
    "\n",
    "        # ✅ Validar y normalizar segmento_cliente\n",
    "        segmento = cliente_df.at[0, 'segmento_cliente'].upper()\n",
    "        if segmento not in ['A', 'B', 'C', 'D']:\n",
    "            raise ValueError(f\"segmento_cliente inválido: '{segmento}'. Debe estar entre A y D.\")\n",
    "        cliente_df.at[0, 'segmento_cliente'] = segmento\n",
    "\n",
    "        # Calcular campos adicionales\n",
    "        cliente_df['longitud_descripcion'] = cliente_df['descripcion_atencion'].str.len()\n",
    "        cliente_df['tiempo_atencion'] = (\n",
    "            pd.to_datetime(cliente_df['fin_atencion']) - \n",
    "            pd.to_datetime(cliente_df['inicio_atencion_utc'])\n",
    "        ).dt.total_seconds() / 60\n",
    "        cliente_df['zona_sucursal'] = cliente_df['zona_sucursal'].apply(lambda x: 0 if x == 'zona 1' else 1)\n",
    "        cliente_df['prob_churn'] = cliente_df['tipo_asistencia'].apply(self.predecir_churn)\n",
    "\n",
    "        # Eliminar columnas no necesarias\n",
    "        columnas_a_eliminar = [\n",
    "            'cliente_id', 'inicio_atencion_utc', 'fin_atencion',\n",
    "            'geometry', 'descripcion_atencion'\n",
    "        ]\n",
    "        columnas_existentes = [col for col in columnas_a_eliminar if col in cliente_df.columns]\n",
    "        \n",
    "        return cliente_df.drop(columnas_existentes, axis=1)\n",
    "\n",
    "    def predecir(self, datos_cliente, threshold=0.35):\n",
    "        \"\"\"\n",
    "        Realiza la predicción de churn para un cliente.\n",
    "        Devuelve:\n",
    "        - probabilidad_churn: float entre 0 y 1\n",
    "        - debe_retener: bool (True si probabilidad >= threshold)\n",
    "        \"\"\"\n",
    "        if self.model is None:\n",
    "            return {\n",
    "                'error': 'Modelo no cargado',\n",
    "                'probabilidad_churn': None,\n",
    "                'debe_retener': None,\n",
    "                'umbral': threshold\n",
    "            }\n",
    "\n",
    "        datos_preparados = self.preparar_datos(datos_cliente)\n",
    "        proba = self.model.predict_proba(datos_preparados)[:, 1][0]\n",
    "\n",
    "        return {\n",
    "            'probabilidad_churn': proba,\n",
    "            'debe_retener': proba >= threshold,\n",
    "            'umbral': threshold\n",
    "        }\n"
   ]
  },
  {
   "cell_type": "code",
   "execution_count": 3,
   "id": "cf672b2e",
   "metadata": {},
   "outputs": [
    {
     "name": "stdout",
     "output_type": "stream",
     "text": [
      "✅ Modelo cargado correctamente.\n",
      "\n",
      "📌 Prueba función predecir_churn():\n",
      "problema → 1.0\n",
      "reclamo  → 0.8\n",
      "consulta → 0\n",
      "\n",
      "📋 Datos preparados:\n",
      "  segmento_cliente tipo_asistencia  puntos_de_loyalty  edad  zona_sucursal  \\\n",
      "0                D        problema               85.0    45              1   \n",
      "\n",
      "   longitud_descripcion  tiempo_atencion  prob_churn  \n",
      "0                    43             45.0         1.0  \n",
      "\n",
      "📈 Resultado de la predicción:\n",
      "- Probabilidad de churn: 64.2%\n",
      "- Debe retenerse: ✅ SÍ\n",
      "- Umbral utilizado: 35%\n"
     ]
    }
   ],
   "source": [
    "if __name__ == \"__main__\":\n",
    "    # Inicializar el predictor\n",
    "    predictor = ChurnPredictor('modelo_entrenado1.pkl')\n",
    "\n",
    "    # -------------------------\n",
    "    # 🔎 Probar función auxiliar\n",
    "    # -------------------------\n",
    "    print(\"\\n📌 Prueba función predecir_churn():\")\n",
    "    print(f\"problema → {predictor.predecir_churn('problema')}\")\n",
    "    print(f\"reclamo  → {predictor.predecir_churn('reclamo')}\")\n",
    "    print(f\"consulta → {predictor.predecir_churn('consulta')}\")\n",
    "\n",
    "    # --------------------------\n",
    "    # 🧪 Datos de prueba cliente\n",
    "    # --------------------------\n",
    "    datos_cliente = {\n",
    "        'cliente_id': 12345,\n",
    "        'segmento_cliente': 'd',\n",
    "        'tipo_asistencia': 'problema',\n",
    "        'descripcion_atencion': 'El cliente reporta problemas con su tarjeta',\n",
    "        'inicio_atencion_utc': '2023-05-15 14:30:00',\n",
    "        'fin_atencion': '2023-05-15 15:15:00',\n",
    "        'puntos_de_loyalty': 85.0,\n",
    "        'edad': 45,\n",
    "        'zona_sucursal': 'zona 2',\n",
    "        'geometry': '0101000020E6100000F4FDD478E9E24EC0DD24068195C33A40'\n",
    "    }\n",
    "\n",
    "    # --------------------------\n",
    "    # 🔍 Probar preparación datos\n",
    "    # --------------------------\n",
    "    print(\"\\n📋 Datos preparados:\")\n",
    "    df_preparado = predictor.preparar_datos(datos_cliente)\n",
    "    print(df_preparado)\n",
    "\n",
    "    # --------------------------\n",
    "    # 🔮 Realizar predicción final\n",
    "    # --------------------------\n",
    "    print(\"\\n📈 Resultado de la predicción:\")\n",
    "    resultado = predictor.predecir(datos_cliente)\n",
    "    \n",
    "    if 'error' in resultado:\n",
    "        print(\"❌ No se pudo predecir porque el modelo no se cargó correctamente.\")\n",
    "    else:\n",
    "        print(f\"- Probabilidad de churn: {resultado['probabilidad_churn']:.1%}\")\n",
    "        print(f\"- Debe retenerse: {'✅ SÍ' if resultado['debe_retener'] else '❌ NO'}\")\n",
    "        print(f\"- Umbral utilizado: {resultado['umbral']:.0%}\")"
   ]
  }
 ],
 "metadata": {
  "kernelspec": {
   "display_name": "base",
   "language": "python",
   "name": "python3"
  },
  "language_info": {
   "codemirror_mode": {
    "name": "ipython",
    "version": 3
   },
   "file_extension": ".py",
   "mimetype": "text/x-python",
   "name": "python",
   "nbconvert_exporter": "python",
   "pygments_lexer": "ipython3",
   "version": "3.12.7"
  }
 },
 "nbformat": 4,
 "nbformat_minor": 5
}
