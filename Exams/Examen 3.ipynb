{
 "cells": [
  {
   "cell_type": "markdown",
   "id": "51f66258",
   "metadata": {},
   "source": [
    "# Intermoda Analisis"
   ]
  },
  {
   "cell_type": "markdown",
   "id": "ea8c0d80",
   "metadata": {},
   "source": [
    "Lucho Ene | 2022"
   ]
  },
  {
   "cell_type": "markdown",
   "id": "b8507179",
   "metadata": {},
   "source": [
    "Instrucciones: En el presente documento se presentará una prueba técnica necesaria para el proceso de selección al puesto científico de datos, \n",
    "deberá realizarla en el tiempo establecido y enviar la solución por correo electrónico con las evidencias solicitadas a continuación.\n",
    "\n",
    "Descripción: En el Dataset adjunto se encuentra la información de ventas de dos periodos de venta X,\n",
    "los cuales usted como científico de datos tendrá que explorar, \n",
    "clasificar, limpiar y mostrar análisis o descubrimientos, tomando en cuenta los atributos que el set de datos le ofrece, \n",
    "es importante que puede hacer presunciones de datos que no existen de ser necesario para su análisis."
   ]
  },
  {
   "cell_type": "markdown",
   "id": "6e8adb4d",
   "metadata": {},
   "source": [
    "## Datasets"
   ]
  },
  {
   "cell_type": "markdown",
   "id": "0074f471",
   "metadata": {},
   "source": [
    "# Diccionario de Columnas del Dataset\n",
    "\n",
    "1. **Anio**: Año de la transacción (tipo: int64)\n",
    "   - **Descripción**: Año correspondiente a la transacción, representado con un valor entero.\n",
    "\n",
    "2. **Número mes**: Número del mes de la transacción (tipo: int64)\n",
    "   - **Descripción**: El mes en que ocurrió la transacción, representado con un número entre 1 y 12.\n",
    "\n",
    "3. **Código cliente**: Identificador único del cliente (tipo: object)\n",
    "   - **Descripción**: Código alfanumérico que representa a un cliente específico.\n",
    "\n",
    "4. **Cliente**: Nombre del cliente (tipo: object)\n",
    "   - **Descripción**: Nombre completo del cliente asociado a la transacción.\n",
    "\n",
    "5. **Pais**: País en el que se encuentra el cliente (tipo: object)\n",
    "   - **Descripción**: País del cliente donde se realizó la transacción. Algunas filas tienen valores nulos.\n",
    "\n",
    "6. **Departamento**: Departamento o estado dentro del país (tipo: object)\n",
    "   - **Descripción**: El nombre del departamento o estado dentro del país correspondiente. Algunas filas tienen valores nulos.\n",
    "\n",
    "7. **Linea**: Categoría o clasificación principal del producto (tipo: object)\n",
    "   - **Descripción**: La línea de productos a la que pertenece el artículo comprado.\n",
    "\n",
    "8. **Código producto**: Código único del producto (tipo: object)\n",
    "   - **Descripción**: Código que identifica de manera única a cada producto.\n",
    "\n",
    "9. **Producto**: Nombre del producto (tipo: object)\n",
    "   - **Descripción**: Descripción o nombre del producto vendido.\n",
    "\n",
    "10. **Marca**: Marca del producto (tipo: object)\n",
    "    - **Descripción**: La marca del producto, algunas filas contienen valores nulos.\n",
    "\n",
    "11. **Sublinea**: Subcategoría o subclasificación del producto (tipo: object)\n",
    "    - **Descripción**: Subcategoría dentro de la línea principal del producto.\n",
    "\n",
    "12. **Categoría**: Categoría del producto (tipo: object)\n",
    "    - **Descripción**: La categoría de producto a la que pertenece, con algunos valores nulos.\n",
    "\n",
    "13. **Género**: Género al que está dirigido el producto (tipo: object)\n",
    "    - **Descripción**: Indica si el producto es para hombres, mujeres, niños, o neutro. Algunas filas contienen valores nulos.\n",
    "\n",
    "14. **Base**: Base del producto, generalmente la unidad de medida o tipo (tipo: object)\n",
    "    - **Descripción**: Información adicional sobre la unidad de medida o tipo de producto.\n",
    "\n",
    "15. **Base descripción**: Descripción adicional de la base del producto (tipo: object)\n",
    "    - **Descripción**: Detalles sobre la base del producto, con algunos valores nulos.\n",
    "\n",
    "16. **Talla**: Talla del producto (tipo: object)\n",
    "    - **Descripción**: La talla del producto si aplica (como en ropa o calzado).\n",
    "\n",
    "17. **Código color**: Código único para el color del producto (tipo: object)\n",
    "    - **Descripción**: Código que rep\n"
   ]
  },
  {
   "cell_type": "code",
   "execution_count": null,
   "id": "8ac969c0",
   "metadata": {},
   "outputs": [],
   "source": []
  }
 ],
 "metadata": {
  "kernelspec": {
   "display_name": "Python 3 (ipykernel)",
   "language": "python",
   "name": "python3"
  },
  "language_info": {
   "codemirror_mode": {
    "name": "ipython",
    "version": 3
   },
   "file_extension": ".py",
   "mimetype": "text/x-python",
   "name": "python",
   "nbconvert_exporter": "python",
   "pygments_lexer": "ipython3",
   "version": "3.10.9"
  }
 },
 "nbformat": 4,
 "nbformat_minor": 5
}
