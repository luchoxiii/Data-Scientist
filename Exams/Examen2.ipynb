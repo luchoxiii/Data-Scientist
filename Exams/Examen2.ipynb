{
 "cells": [
  {
   "cell_type": "markdown",
   "id": "2548acff",
   "metadata": {},
   "source": [
    "# Analisis"
   ]
  },
  {
   "cell_type": "markdown",
   "id": "323b314e",
   "metadata": {},
   "source": [
    "Lucho"
   ]
  },
  {
   "cell_type": "markdown",
   "id": "680ca9af",
   "metadata": {},
   "source": [
    "## Consigna\n",
    "\n",
    "### Problema de Predicción de Ventas\n",
    "\n",
    "### Descripción del Problema\n",
    "Se proporciona un dataset con datos transaccionales referidos a ventas de distintos productos. El objetivo es construir un modelo de regresión simple para predecir las ventas por producto de una tienda en particular, que forma parte de una cadena de tiendas, y descubrir cuáles son los principales factores que influencian dicha predicción.\n",
    "\n",
    "### Asunciones\n",
    "- **Categoría del producto**: Podría tener cierto impacto en las ventas. Se asume que los productos de consumo general se venden más que las bebidas alcohólicas.\n",
    "- **Tipo de tienda y ubicación**: Es importante para las ventas. Las tiendas en diferentes ubicaciones pueden tener comportamientos de ventas diferentes.\n",
    "- **Tamaño de la tienda**: Puede ser relevante. La pregunta es si los clientes prefieren tiendas grandes para comprar todo lo que necesitan de una vez y obtener mejores precios, o si prefieren visitar tiendas más pequeñas.\n",
    "\n",
    "### Tareas a Realizar\n",
    "1. **Descargar y analizar los datos**:\n",
    "   - Limpieza de datos\n",
    "   - Gráficos\n",
    "   - Tablas\n",
    "\n",
    "2. **Procesamiento de datos**:\n",
    "   - Selección de variables importantes para el modelo\n",
    "   - Feature engineering para variables numéricas, categóricas y datetimes\n",
    "\n",
    "3. **Modelado**:\n",
    "   - Entrenamiento del modelo\n",
    "   - Cálculo de métricas apropiadas\n",
    "   - Análisis de las principales variables que utiliza el modelo\n",
    "\n",
    "4. **Test**:\n",
    "   - Aplicación del modelo en el dataset de test.\n",
    "\n",
    "La solución deberá ser legible, reproducible y eficiente para la resolución del challenge. Se puede utilizar cualquier tipo de gráfico o tabla para mostrar la información de la manera que se considere adecuada.\n",
    "\n",
    "### Archivos Proporcionados\n",
    "Los archivos `train` y `test` tienen la misma estructura. Las columnas que contienen son las siguientes:\n",
    "\n",
    "- **Item_Identifier** (Object): Nombre o identificador del producto\n",
    "- **Item_Weight** (Float): Peso del producto en gramos\n",
    "- **Item_Fat_Content** (Object): Clasificación del producto en términos de grasas contenidas en él\n",
    "- **Item_Visibility** (Float): Scoring de visibilidad del producto. Mide qué tan fácil puede ser encontrado el producto por los consumidores\n",
    "- **Item_Type** (Object): Tipo de producto\n",
    "- **Item_MRP** (Float): Maximum Retail Price. Precio calculado por el fabricante que indica el precio más alto que se puede cobrar por el producto\n",
    "- **Outlet_Identifier** (Object): Identificador de la tienda\n",
    "- **Outlet_Establishment_Year**(Float): Año de lanzamiento de la tienda\n",
    "- **Outlet_Size** (Object): Tamaño de la tienda\n",
    "- **Outlet_Location_Type** (Object): Clasificación de las tiendas según ubicación\n",
    "- **Outlet_Type** (Object): Tipo de tienda\n",
    "- **Item_Outlet_Sales** (Float): Ventas del producto en cada observación\n",
    "\n",
    "\n",
    "### Presentacion resultado\n",
    "\n",
    "- El entregable principal es un Informe con tus respuestas: puede ser un Jupyter Notebook, una presentación en PPT o similar, un HTML, o como lo prefieras. Queremos conocer detalles como los criterios utilizados, dificultades encontradas en el camino y resultados parciales.\n",
    "  - ¿Qué otras fuentes de datos o información crees que serían interesantes para mejorar tu análisis?\n",
    "\n",
    "- Podés usar cualquier lenguaje, herramientas y servicios en la nube que desees.\n",
    "  - Nos gustaría ver tu código o implementación."
   ]
  }
 ],
 "metadata": {
  "kernelspec": {
   "display_name": "Python 3 (ipykernel)",
   "language": "python",
   "name": "python3"
  },
  "language_info": {
   "codemirror_mode": {
    "name": "ipython",
    "version": 3
   },
   "file_extension": ".py",
   "mimetype": "text/x-python",
   "name": "python",
   "nbconvert_exporter": "python",
   "pygments_lexer": "ipython3",
   "version": "3.10.9"
  }
 },
 "nbformat": 4,
 "nbformat_minor": 5
}
