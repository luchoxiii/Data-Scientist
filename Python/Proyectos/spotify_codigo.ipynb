{
 "cells": [
  {
   "cell_type": "markdown",
   "metadata": {},
   "source": [
    "### Spotify Recomendacion"
   ]
  },
  {
   "cell_type": "markdown",
   "metadata": {},
   "source": [
    "Lucho Sep|2021"
   ]
  },
  {
   "cell_type": "markdown",
   "metadata": {},
   "source": [
    "Detalles:\n",
    "<li>Titulo: Nombre de las canciones</li>\n",
    "<li>Artista: Artista de la cancion</li>\n",
    "<li>Genero: Genero al que pertenece la cancion</li>\n",
    "<li>BMP:Es el tempo de la cancion</li>\n",
    "<li>Raiting: Es el raiting de la cancion</li>"
   ]
  },
  {
   "cell_type": "markdown",
   "metadata": {},
   "source": [
    "#### Import Packages"
   ]
  },
  {
   "cell_type": "code",
   "execution_count": 1,
   "metadata": {},
   "outputs": [],
   "source": [
    "import pandas as pd\n",
    "import numpy as np \n",
    "import matplotlib.pyplot as plt\n",
    "import seaborn as sns\n",
    "\n",
    "from sklearn.metrics import accuracy_score, confusion_matrix, ConfusionMatrixDisplay\n",
    "from sklearn.metrics.pairwise import cosine_similarity\n",
    "from sklearn.preprocessing import OneHotEncoder"
   ]
  },
  {
   "cell_type": "markdown",
   "metadata": {},
   "source": [
    "#### Datasets"
   ]
  },
  {
   "cell_type": "code",
   "execution_count": 2,
   "metadata": {},
   "outputs": [],
   "source": [
    "data = {\n",
    "    \"Titulo\" : [\n",
    "        \"Je veux\", \"Les passants\", \" Le long de la route\", \"Gone, Gone, Gone\", \"Home\",\n",
    "          \"I used to rule the world\", \"Viva La Vida\", \"Way down We go\"\n",
    "    ],\n",
    "    \"Artista\": [\"Zaz\", \"Zaz\", \"Zaz\", \"Phillip Phillips\", \"Phillip Phillips\",\" When It's the End\", \"Coldplay\", \"KALEO\"],\n",
    "    \"Genero\" : [\"Pop\", \"Pop\", \"Pop\", \"Country\", \"Country\", \"Series\", \"Pop\", \"Rock\"],\n",
    "    \"Rating\" : [9.1, 7.8, 8, 8.5, 7, 7.5, 9, 6.5],\n",
    "    \"BPM\": [145, 198, 155, 180, 165, 176, 181,150],\n",
    "}\n",
    "\n",
    "df = pd.DataFrame(data)\n"
   ]
  },
  {
   "cell_type": "code",
   "execution_count": 3,
   "metadata": {},
   "outputs": [
    {
     "data": {
      "text/html": [
       "<div>\n",
       "<style scoped>\n",
       "    .dataframe tbody tr th:only-of-type {\n",
       "        vertical-align: middle;\n",
       "    }\n",
       "\n",
       "    .dataframe tbody tr th {\n",
       "        vertical-align: top;\n",
       "    }\n",
       "\n",
       "    .dataframe thead th {\n",
       "        text-align: right;\n",
       "    }\n",
       "</style>\n",
       "<table border=\"1\" class=\"dataframe\">\n",
       "  <thead>\n",
       "    <tr style=\"text-align: right;\">\n",
       "      <th>Titulo</th>\n",
       "      <th>Je veux</th>\n",
       "      <th>Les passants</th>\n",
       "      <th>Le long de la route</th>\n",
       "      <th>Gone, Gone, Gone</th>\n",
       "      <th>Home</th>\n",
       "      <th>I used to rule the world</th>\n",
       "      <th>Viva La Vida</th>\n",
       "      <th>Way down We go</th>\n",
       "    </tr>\n",
       "    <tr>\n",
       "      <th>Titulo</th>\n",
       "      <th></th>\n",
       "      <th></th>\n",
       "      <th></th>\n",
       "      <th></th>\n",
       "      <th></th>\n",
       "      <th></th>\n",
       "      <th></th>\n",
       "      <th></th>\n",
       "    </tr>\n",
       "  </thead>\n",
       "  <tbody>\n",
       "    <tr>\n",
       "      <th>Je veux</th>\n",
       "      <td>1.000000</td>\n",
       "      <td>0.999727</td>\n",
       "      <td>0.999938</td>\n",
       "      <td>0.999841</td>\n",
       "      <td>0.999752</td>\n",
       "      <td>0.999758</td>\n",
       "      <td>0.999915</td>\n",
       "      <td>0.999767</td>\n",
       "    </tr>\n",
       "    <tr>\n",
       "      <th>Les passants</th>\n",
       "      <td>0.999727</td>\n",
       "      <td>1.000000</td>\n",
       "      <td>0.999925</td>\n",
       "      <td>0.999941</td>\n",
       "      <td>0.999964</td>\n",
       "      <td>0.999966</td>\n",
       "      <td>0.999947</td>\n",
       "      <td>0.999957</td>\n",
       "    </tr>\n",
       "    <tr>\n",
       "      <th>Le long de la route</th>\n",
       "      <td>0.999938</td>\n",
       "      <td>0.999925</td>\n",
       "      <td>1.000000</td>\n",
       "      <td>0.999954</td>\n",
       "      <td>0.999919</td>\n",
       "      <td>0.999923</td>\n",
       "      <td>0.999998</td>\n",
       "      <td>0.999923</td>\n",
       "    </tr>\n",
       "    <tr>\n",
       "      <th>Gone, Gone, Gone</th>\n",
       "      <td>0.999841</td>\n",
       "      <td>0.999941</td>\n",
       "      <td>0.999954</td>\n",
       "      <td>1.000000</td>\n",
       "      <td>0.999988</td>\n",
       "      <td>0.999958</td>\n",
       "      <td>0.999966</td>\n",
       "      <td>0.999955</td>\n",
       "    </tr>\n",
       "    <tr>\n",
       "      <th>Home</th>\n",
       "      <td>0.999752</td>\n",
       "      <td>0.999964</td>\n",
       "      <td>0.999919</td>\n",
       "      <td>0.999988</td>\n",
       "      <td>1.000000</td>\n",
       "      <td>0.999966</td>\n",
       "      <td>0.999940</td>\n",
       "      <td>0.999959</td>\n",
       "    </tr>\n",
       "    <tr>\n",
       "      <th>I used to rule the world</th>\n",
       "      <td>0.999758</td>\n",
       "      <td>0.999966</td>\n",
       "      <td>0.999923</td>\n",
       "      <td>0.999958</td>\n",
       "      <td>0.999966</td>\n",
       "      <td>1.000000</td>\n",
       "      <td>0.999943</td>\n",
       "      <td>0.999961</td>\n",
       "    </tr>\n",
       "    <tr>\n",
       "      <th>Viva La Vida</th>\n",
       "      <td>0.999915</td>\n",
       "      <td>0.999947</td>\n",
       "      <td>0.999998</td>\n",
       "      <td>0.999966</td>\n",
       "      <td>0.999940</td>\n",
       "      <td>0.999943</td>\n",
       "      <td>1.000000</td>\n",
       "      <td>0.999942</td>\n",
       "    </tr>\n",
       "    <tr>\n",
       "      <th>Way down We go</th>\n",
       "      <td>0.999767</td>\n",
       "      <td>0.999957</td>\n",
       "      <td>0.999923</td>\n",
       "      <td>0.999955</td>\n",
       "      <td>0.999959</td>\n",
       "      <td>0.999961</td>\n",
       "      <td>0.999942</td>\n",
       "      <td>1.000000</td>\n",
       "    </tr>\n",
       "  </tbody>\n",
       "</table>\n",
       "</div>"
      ],
      "text/plain": [
       "Titulo                     Je veux  Les passants   Le long de la route  \\\n",
       "Titulo                                                                   \n",
       "Je veux                   1.000000      0.999727              0.999938   \n",
       "Les passants              0.999727      1.000000              0.999925   \n",
       " Le long de la route      0.999938      0.999925              1.000000   \n",
       "Gone, Gone, Gone          0.999841      0.999941              0.999954   \n",
       "Home                      0.999752      0.999964              0.999919   \n",
       "I used to rule the world  0.999758      0.999966              0.999923   \n",
       "Viva La Vida              0.999915      0.999947              0.999998   \n",
       "Way down We go            0.999767      0.999957              0.999923   \n",
       "\n",
       "Titulo                    Gone, Gone, Gone      Home  \\\n",
       "Titulo                                                 \n",
       "Je veux                           0.999841  0.999752   \n",
       "Les passants                      0.999941  0.999964   \n",
       " Le long de la route              0.999954  0.999919   \n",
       "Gone, Gone, Gone                  1.000000  0.999988   \n",
       "Home                              0.999988  1.000000   \n",
       "I used to rule the world          0.999958  0.999966   \n",
       "Viva La Vida                      0.999966  0.999940   \n",
       "Way down We go                    0.999955  0.999959   \n",
       "\n",
       "Titulo                    I used to rule the world  Viva La Vida  \\\n",
       "Titulo                                                             \n",
       "Je veux                                   0.999758      0.999915   \n",
       "Les passants                              0.999966      0.999947   \n",
       " Le long de la route                      0.999923      0.999998   \n",
       "Gone, Gone, Gone                          0.999958      0.999966   \n",
       "Home                                      0.999966      0.999940   \n",
       "I used to rule the world                  1.000000      0.999943   \n",
       "Viva La Vida                              0.999943      1.000000   \n",
       "Way down We go                            0.999961      0.999942   \n",
       "\n",
       "Titulo                    Way down We go  \n",
       "Titulo                                    \n",
       "Je veux                         0.999767  \n",
       "Les passants                    0.999957  \n",
       " Le long de la route            0.999923  \n",
       "Gone, Gone, Gone                0.999955  \n",
       "Home                            0.999959  \n",
       "I used to rule the world        0.999961  \n",
       "Viva La Vida                    0.999942  \n",
       "Way down We go                  1.000000  "
      ]
     },
     "execution_count": 3,
     "metadata": {},
     "output_type": "execute_result"
    }
   ],
   "source": [
    "encoder = OneHotEncoder(sparse_output=False)\n",
    "genero_encoder = encoder.fit_transform(df[[\"Genero\"]])\n",
    "\n",
    "rating_bpm = df[[\"Rating\", \"BPM\"]].values\n",
    "\n",
    "matriz_caracteristicas = np.hstack((rating_bpm, genero_encoder))\n",
    "\n",
    "matriz_similitud = cosine_similarity(matriz_caracteristicas)\n",
    "\n",
    "\n",
    "df_similarity = pd.DataFrame(matriz_similitud, index=df[\"Titulo\"], columns=df[\"Titulo\"])\n",
    "df_similarity\n",
    "\n"
   ]
  },
  {
   "cell_type": "code",
   "execution_count": 4,
   "metadata": {},
   "outputs": [],
   "source": [
    "def recomendar_songs (cancion):\n",
    "    simimilar_songs = df_similarity[cancion].sort_values(ascending= False).head(4)\n",
    "    return simimilar_songs\n",
    "\n"
   ]
  },
  {
   "cell_type": "code",
   "execution_count": 5,
   "metadata": {},
   "outputs": [
    {
     "name": "stdout",
     "output_type": "stream",
     "text": [
      "\n",
      "Recomendaciones basadas en Home : \n",
      "Titulo\n",
      "Home                        1.000000\n",
      "Gone, Gone, Gone            0.999988\n",
      "I used to rule the world    0.999966\n",
      "Les passants                0.999964\n",
      "Name: Home, dtype: float64\n"
     ]
    }
   ],
   "source": [
    "cancion_usuario = \"Home\"\n",
    "\n",
    "print(f\"\\nRecomendaciones basadas en {cancion_usuario} : \")\n",
    "print(recomendar_songs(cancion_usuario))"
   ]
  }
 ],
 "metadata": {
  "kernelspec": {
   "display_name": "base",
   "language": "python",
   "name": "python3"
  },
  "language_info": {
   "codemirror_mode": {
    "name": "ipython",
    "version": 3
   },
   "file_extension": ".py",
   "mimetype": "text/x-python",
   "name": "python",
   "nbconvert_exporter": "python",
   "pygments_lexer": "ipython3",
   "version": "3.12.7"
  }
 },
 "nbformat": 4,
 "nbformat_minor": 2
}
